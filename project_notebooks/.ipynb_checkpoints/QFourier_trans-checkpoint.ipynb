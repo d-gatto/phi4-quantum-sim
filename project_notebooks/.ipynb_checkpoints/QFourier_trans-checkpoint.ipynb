{
 "cells": [
  {
   "cell_type": "markdown",
   "metadata": {},
   "source": [
    "# Quantum Fourier transform\n",
    "I define a child class for my simlutaion. It has a registry field to stores all the qubits necessary to run the simulation. \n",
    "I also define a Quantum Fourier Transform which will be an instrumental part of the simulation."
   ]
  },
  {
   "cell_type": "code",
   "execution_count": 6,
   "metadata": {},
   "outputs": [],
   "source": [
    "from qat.lang.AQASM import Program, QRoutine, H, PH, SWAP\n",
    "from qat.lang.AQASM.qint import QInt\n",
    "import qat.lang.AQASM.qftarith as qftarith\n",
    "import mpmath as mp\n",
    "import math\n",
    "\n",
    "# Quantum Fourier Transform subroutine\n",
    "def qFt(qbits):\n",
    "    rout = QRoutine()\n",
    "    wires = rout.new_wires(qbits)  \n",
    "    for j in range(qbits):\n",
    "        rout.apply(H, wires[j])\n",
    "        for k in range(1, qbits-j):\n",
    "            rout.apply(PH(-math.pi/2**k).ctrl(), wires[k+j], wires[j])\n",
    "    if(qbits>1):\n",
    "        for h in range(mp.floor(qbits/2)):\n",
    "            rout.apply(SWAP, wires[h], wires[m-h-1])\n",
    "    return rout\n",
    "\n",
    "def qFtInv(qbits):\n",
    "    rout = QRoutine()\n",
    "    wires = rout.new_wires(qbits)  \n",
    "    for j in range(qbits):\n",
    "        rout.apply(H, wires[j])\n",
    "        for k in range(1, qbits-j):\n",
    "            rout.apply(PH(pi/2**k).ctrl(), wires[k+j], wires[j])\n",
    "    if(qbits>1):\n",
    "        for h in range(math.floor(qbits/2)):\n",
    "            rout.apply(SWAP, wires[h], wires[m-h-1])\n",
    "    return rout"
   ]
  },
  {
   "cell_type": "markdown",
   "metadata": {
    "tags": []
   },
   "source": [
    "# Testing\n",
    "Let's apply the qFT on the computational basis vectors for various dimensionalities"
   ]
  },
  {
   "cell_type": "code",
   "execution_count": 2,
   "metadata": {},
   "outputs": [],
   "source": [
    "#Start with a single qubit\n",
    "from qat.qpus import PyLinalg\n",
    "import time\n",
    "qpu = PyLinalg()\n",
    "qFt_1 = qFt(1)\n",
    "QFT_1 = qftarith.QFT(1)"
   ]
  },
  {
   "cell_type": "code",
   "execution_count": 4,
   "metadata": {},
   "outputs": [
    {
     "name": "stdout",
     "output_type": "stream",
     "text": [
      "State |0> Amplitude: (0.7071067811865475+0j)\n",
      "State |1> Amplitude: (0.7071067811865475+0j)\n",
      "Execution time:  0.006995677947998047\n"
     ]
    }
   ],
   "source": [
    "#Testing on vector |0> of the computational basis\n",
    "qFtest = Program()\n",
    "reg = qFtest.qalloc(1, QInt)\n",
    "start = time.time()\n",
    "qFtest.apply(qFt_1, reg)\n",
    "circ = qFtest.to_circ()\n",
    "#%qatdisplay circ\n",
    "job = circ.to_job()\n",
    "result = qpu.submit(job)\n",
    "end = time.time()\n",
    "for sample in result:\n",
    "    print(\"State {} Amplitude: {}\".format(sample.state,sample.amplitude))\n",
    "print(\"Execution time: \", end-start)\n",
    "# Expected result: \n",
    "# State |0> amplitude 0.707\n",
    "# State |1> amplitude 0.707"
   ]
  },
  {
   "cell_type": "code",
   "execution_count": 8,
   "metadata": {},
   "outputs": [
    {
     "name": "stdout",
     "output_type": "stream",
     "text": [
      "State |0> Amplitude: (0.7071067811865475+0j)\n",
      "State |1> Amplitude: (0.7071067811865475+0j)\n",
      "Execution time:  0.008993864059448242\n"
     ]
    }
   ],
   "source": [
    "#Comparison qith the built-in qFt\n",
    "qFtest = Program()\n",
    "reg = qFtest.qalloc(1, QInt)\n",
    "start = time.time()\n",
    "qFtest.apply(QFT_1, reg)\n",
    "circ = qFtest.to_circ()\n",
    "#%qatdisplay circ\n",
    "job = circ.to_job()\n",
    "result = qpu.submit(job)\n",
    "end = time.time()\n",
    "for sample in result:\n",
    "    print(\"State {} Amplitude: {}\".format(sample.state,sample.amplitude))\n",
    "print(\"Execution time: \", end-start)\n",
    "# Expected result: \n",
    "# State |0> amplitude 0.707\n",
    "# State |1> amplitude 0.707"
   ]
  },
  {
   "cell_type": "code",
   "execution_count": 9,
   "metadata": {},
   "outputs": [
    {
     "name": "stdout",
     "output_type": "stream",
     "text": [
      "State |0> Amplitude: (0.7071067811865475+0j)\n",
      "State |1> Amplitude: (-0.7071067811865475+0j)\n",
      "Execution time:  0.0069980621337890625\n"
     ]
    }
   ],
   "source": [
    "#Testing on vector |1> of the computational basis\n",
    "qFtest = Program()\n",
    "reg = qFtest.qalloc(1, QInt)\n",
    "reg.set_value(1)\n",
    "start = time.time()\n",
    "qFtest.apply(qFt_1, reg)\n",
    "circ = qFtest.to_circ()\n",
    "job = circ.to_job()\n",
    "result = qpu.submit(job)\n",
    "end = time.time()\n",
    "for sample in result:\n",
    "    print(\"State {} Amplitude: {}\".format(sample.state,sample.amplitude))\n",
    "print(\"Execution time: \", end-start)\n",
    "#Expected result: \n",
    "#State |0> amplitude 0.707\n",
    "#State |1> amplitude -0.707"
   ]
  },
  {
   "cell_type": "code",
   "execution_count": 11,
   "metadata": {},
   "outputs": [
    {
     "name": "stdout",
     "output_type": "stream",
     "text": [
      "State |0> Amplitude: (0.7071067811865475+0j)\n",
      "State |1> Amplitude: (-0.7071067811865475+0j)\n",
      "Execution time:  0.00899505615234375\n"
     ]
    }
   ],
   "source": [
    "#Comparison with the built-in qFt\n",
    "qFtest = Program()\n",
    "reg = qFtest.qalloc(1, QInt)\n",
    "reg.set_value(1)\n",
    "start = time.time()\n",
    "qFtest.apply(QFT_1, reg)\n",
    "circ = qFtest.to_circ()\n",
    "job = circ.to_job()\n",
    "result = qpu.submit(job)\n",
    "end = time.time()\n",
    "for sample in result:\n",
    "    print(\"State {} Amplitude: {}\".format(sample.state,sample.amplitude))\n",
    "print(\"Execution time: \", end-start)\n",
    "#Expected result: \n",
    "#State |0> amplitude 0.707\n",
    "#State |1> amplitude -0.707"
   ]
  },
  {
   "cell_type": "code",
   "execution_count": 7,
   "metadata": {},
   "outputs": [
    {
     "ename": "TypeError",
     "evalue": "'mpf' object cannot be interpreted as an integer",
     "output_type": "error",
     "traceback": [
      "\u001b[1;31m---------------------------------------------------------------------------\u001b[0m",
      "\u001b[1;31mTypeError\u001b[0m                                 Traceback (most recent call last)",
      "Input \u001b[1;32mIn [7]\u001b[0m, in \u001b[0;36m<cell line: 2>\u001b[1;34m()\u001b[0m\n\u001b[0;32m      1\u001b[0m \u001b[38;5;66;03m#Let's continue with 2-qbit registers\u001b[39;00m\n\u001b[1;32m----> 2\u001b[0m qFt_2 \u001b[38;5;241m=\u001b[39m \u001b[43mqFt\u001b[49m\u001b[43m(\u001b[49m\u001b[38;5;241;43m2\u001b[39;49m\u001b[43m)\u001b[49m\n\u001b[0;32m      3\u001b[0m QFT_2 \u001b[38;5;241m=\u001b[39m qftarith\u001b[38;5;241m.\u001b[39mQFT(\u001b[38;5;241m2\u001b[39m)\n",
      "Input \u001b[1;32mIn [6]\u001b[0m, in \u001b[0;36mqFt\u001b[1;34m(qbits)\u001b[0m\n\u001b[0;32m     14\u001b[0m         rout\u001b[38;5;241m.\u001b[39mapply(PH(\u001b[38;5;241m-\u001b[39mmath\u001b[38;5;241m.\u001b[39mpi\u001b[38;5;241m/\u001b[39m\u001b[38;5;241m2\u001b[39m\u001b[38;5;241m*\u001b[39m\u001b[38;5;241m*\u001b[39mk)\u001b[38;5;241m.\u001b[39mctrl(), wires[k\u001b[38;5;241m+\u001b[39mj], wires[j])\n\u001b[0;32m     15\u001b[0m \u001b[38;5;28;01mif\u001b[39;00m(qbits\u001b[38;5;241m>\u001b[39m\u001b[38;5;241m1\u001b[39m):\n\u001b[1;32m---> 16\u001b[0m     \u001b[38;5;28;01mfor\u001b[39;00m h \u001b[38;5;129;01min\u001b[39;00m \u001b[38;5;28;43mrange\u001b[39;49m\u001b[43m(\u001b[49m\u001b[43mmp\u001b[49m\u001b[38;5;241;43m.\u001b[39;49m\u001b[43mfloor\u001b[49m\u001b[43m(\u001b[49m\u001b[43mqbits\u001b[49m\u001b[38;5;241;43m/\u001b[39;49m\u001b[38;5;241;43m2\u001b[39;49m\u001b[43m)\u001b[49m\u001b[43m)\u001b[49m:\n\u001b[0;32m     17\u001b[0m         rout\u001b[38;5;241m.\u001b[39mapply(SWAP, wires[h], wires[m\u001b[38;5;241m-\u001b[39mh\u001b[38;5;241m-\u001b[39m\u001b[38;5;241m1\u001b[39m])\n\u001b[0;32m     18\u001b[0m \u001b[38;5;28;01mreturn\u001b[39;00m rout\n",
      "\u001b[1;31mTypeError\u001b[0m: 'mpf' object cannot be interpreted as an integer"
     ]
    }
   ],
   "source": [
    "#Let's continue with 2-qbit registers\n",
    "qFt_2 = qFt(2)\n",
    "QFT_2 = qftarith.QFT(2)"
   ]
  },
  {
   "cell_type": "code",
   "execution_count": 13,
   "metadata": {},
   "outputs": [
    {
     "name": "stdout",
     "output_type": "stream",
     "text": [
      "State |0> Amplitude: (0.4999999999999999+0j)\n",
      "State |1> Amplitude: (0.4999999999999999+0j)\n",
      "State |2> Amplitude: (0.4999999999999999+0j)\n",
      "State |3> Amplitude: (0.4999999999999999+0j)\n",
      "Execution time:  0.006996631622314453\n"
     ]
    }
   ],
   "source": [
    "#Testing on vector |0>|0> of the computational basis\n",
    "qFtest = Program()\n",
    "reg = qFtest.qalloc(2, QInt)\n",
    "start = time.time()\n",
    "qFtest.apply(qFt_2, reg)\n",
    "circ = qFtest.to_circ()\n",
    "job = circ.to_job()\n",
    "result = qpu.submit(job)\n",
    "end = time.time()\n",
    "for sample in result:\n",
    "    print(\"State {} Amplitude: {}\".format(sample.state,sample.amplitude))\n",
    "print(\"Execution time: \", end-start)\n",
    "#Expected result: \n",
    "#State |0>|0> amplitude 0.5\n",
    "#State |0>|1> amplitude 0.5\n",
    "#State |1>|0> amplitude 0.5\n",
    "#State |1>|1> amplitude 0.5"
   ]
  },
  {
   "cell_type": "code",
   "execution_count": 14,
   "metadata": {},
   "outputs": [
    {
     "name": "stdout",
     "output_type": "stream",
     "text": [
      "State |0> Amplitude: (0.4999999999999999+0j)\n",
      "State |1> Amplitude: (0.4999999999999999+0j)\n",
      "State |2> Amplitude: (0.4999999999999999+0j)\n",
      "State |3> Amplitude: (0.4999999999999999+0j)\n",
      "Execution time:  0.009992837905883789\n"
     ]
    }
   ],
   "source": [
    "#Comparison with the built-in qFt\n",
    "qFtest = Program()\n",
    "reg = qFtest.qalloc(2, QInt)\n",
    "start = time.time()\n",
    "qFtest.apply(QFT_2, reg)\n",
    "circ = qFtest.to_circ()\n",
    "job = circ.to_job()\n",
    "result = qpu.submit(job)\n",
    "end = time.time()\n",
    "for sample in result:\n",
    "    print(\"State {} Amplitude: {}\".format(sample.state,sample.amplitude))\n",
    "print(\"Execution time: \", end-start)\n",
    "#Expected result: \n",
    "#State |0>|0> amplitude 0.5\n",
    "#State |0>|1> amplitude 0.5\n",
    "#State |1>|0> amplitude 0.5\n",
    "#State |1>|1> amplitude 0.5"
   ]
  },
  {
   "cell_type": "code",
   "execution_count": 15,
   "metadata": {},
   "outputs": [
    {
     "name": "stdout",
     "output_type": "stream",
     "text": [
      "State |0> Amplitude: (0.4999999999999999+0j)\n",
      "State |1> Amplitude: (3.0616169978683824e-17+0.4999999999999999j)\n",
      "State |2> Amplitude: (-0.4999999999999999+0j)\n",
      "State |3> Amplitude: (-3.0616169978683824e-17-0.4999999999999999j)\n",
      "Execution time:  0.007998466491699219\n"
     ]
    }
   ],
   "source": [
    "#Testing on vector |0>|1> of the computational basis\n",
    "qFtest = Program()\n",
    "reg = qFtest.qalloc(2, QInt)\n",
    "reg.set_value(1)\n",
    "start = time.time()\n",
    "qFtest.apply(qFt_2, reg)\n",
    "circ = qFtest.to_circ()\n",
    "job = circ.to_job()\n",
    "result = qpu.submit(job)\n",
    "end = time.time()\n",
    "for sample in result:\n",
    "    print(\"State {} Amplitude: {}\".format(sample.state,sample.amplitude))\n",
    "print(\"Execution time: \", end-start)\n",
    "#Expected result: \n",
    "#State |0>|0> amplitude 0.5\n",
    "#State |0>|1> amplitude 0.5 i\n",
    "#State |1>|0> amplitude -0.5\n",
    "#State |1>|1> amplitude -0.5 i"
   ]
  },
  {
   "cell_type": "code",
   "execution_count": 16,
   "metadata": {},
   "outputs": [
    {
     "name": "stdout",
     "output_type": "stream",
     "text": [
      "State |0> Amplitude: (0.4999999999999999+0j)\n",
      "State |1> Amplitude: (-0.4999999999999999+0j)\n",
      "State |2> Amplitude: (3.0616169978683824e-17+0.4999999999999999j)\n",
      "State |3> Amplitude: (-3.0616169978683824e-17-0.4999999999999999j)\n",
      "Execution time:  0.009994029998779297\n"
     ]
    }
   ],
   "source": [
    "#Comparison with built-in qFt\n",
    "qFtest = Program()\n",
    "reg = qFtest.qalloc(2, QInt)\n",
    "reg.set_value(1)\n",
    "start = time.time()\n",
    "qFtest.apply(QFT_2, reg)\n",
    "circ = qFtest.to_circ()\n",
    "job = circ.to_job()\n",
    "result = qpu.submit(job)\n",
    "end = time.time()\n",
    "for sample in result:\n",
    "    print(\"State {} Amplitude: {}\".format(sample.state,sample.amplitude))\n",
    "print(\"Execution time: \", end-start)\n",
    "#Expected result: \n",
    "#State |0>|0> amplitude 0.5\n",
    "#State |0>|1> amplitude 0.5 i\n",
    "#State |1>|0> amplitude -0.5\n",
    "#State |1>|1> amplitude -0.5 i"
   ]
  },
  {
   "cell_type": "code",
   "execution_count": 17,
   "metadata": {},
   "outputs": [
    {
     "name": "stdout",
     "output_type": "stream",
     "text": [
      "State |0> Amplitude: (0.4999999999999999+0j)\n",
      "State |1> Amplitude: (-0.4999999999999999+0j)\n",
      "State |2> Amplitude: (0.4999999999999999+0j)\n",
      "State |3> Amplitude: (-0.4999999999999999+0j)\n",
      "Execution time:  0.006995201110839844\n"
     ]
    }
   ],
   "source": [
    "#Testing on vector |1>|0> of the computational basis\n",
    "qFtest = Program()\n",
    "reg = qFtest.qalloc(2, QInt)\n",
    "reg.set_value(2)\n",
    "start = time.time()\n",
    "qFtest.apply(qFt_2, reg)\n",
    "circ = qFtest.to_circ()\n",
    "job = circ.to_job()\n",
    "result = qpu.submit(job)\n",
    "end = time.time()\n",
    "for sample in result:\n",
    "    print(\"State {} Amplitude: {}\".format(sample.state,sample.amplitude))\n",
    "print(\"Execution time: \", end-start)\n",
    "#Expected result: \n",
    "#State |0>|0> amplitude 0.5\n",
    "#State |0>|1> amplitude -0.5\n",
    "#State |1>|0> amplitude 0.5\n",
    "#State |1>|1> amplitude -0.5"
   ]
  },
  {
   "cell_type": "code",
   "execution_count": 18,
   "metadata": {},
   "outputs": [
    {
     "name": "stdout",
     "output_type": "stream",
     "text": [
      "State |0> Amplitude: (0.4999999999999999+0j)\n",
      "State |1> Amplitude: (0.4999999999999999+0j)\n",
      "State |2> Amplitude: (-0.4999999999999999+0j)\n",
      "State |3> Amplitude: (-0.4999999999999999+0j)\n",
      "Execution time:  0.01099538803100586\n"
     ]
    }
   ],
   "source": [
    "#Comparison with the built-in qFt\n",
    "qFtest = Program()\n",
    "reg = qFtest.qalloc(2, QInt)\n",
    "reg.set_value(2)\n",
    "start = time.time()\n",
    "qFtest.apply(QFT_2, reg)\n",
    "circ = qFtest.to_circ()\n",
    "job = circ.to_job()\n",
    "result = qpu.submit(job)\n",
    "end = time.time()\n",
    "for sample in result:\n",
    "    print(\"State {} Amplitude: {}\".format(sample.state,sample.amplitude))\n",
    "print(\"Execution time: \", end-start)\n",
    "#Expected result: \n",
    "#State |0>|0> amplitude 0.5\n",
    "#State |0>|1> amplitude -0.5\n",
    "#State |1>|0> amplitude 0.5\n",
    "#State |1>|1> amplitude -0.5"
   ]
  },
  {
   "cell_type": "code",
   "execution_count": 19,
   "metadata": {},
   "outputs": [
    {
     "name": "stdout",
     "output_type": "stream",
     "text": [
      "State |0> Amplitude: (0.4999999999999999+0j)\n",
      "State |1> Amplitude: (-3.0616169978683824e-17-0.4999999999999999j)\n",
      "State |2> Amplitude: (-0.4999999999999999+0j)\n",
      "State |3> Amplitude: (3.0616169978683824e-17+0.4999999999999999j)\n",
      "Execution time:  0.008995771408081055\n"
     ]
    }
   ],
   "source": [
    "#Testing on vector |1>|1> of the computational basis\n",
    "qFtest = Program()\n",
    "reg = qFtest.qalloc(2, QInt)\n",
    "reg.set_value(3)\n",
    "start = time.time()\n",
    "qFtest.apply(qFt_2, reg)\n",
    "circ = qFtest.to_circ()\n",
    "job = circ.to_job()\n",
    "result = qpu.submit(job)\n",
    "end = time.time()\n",
    "for sample in result:\n",
    "    print(\"State {} Amplitude: {}\".format(sample.state,sample.amplitude))\n",
    "print(\"Execution time: \", end-start)\n",
    "#Expected result: \n",
    "#State |0>|0> amplitude 0.5\n",
    "#State |0>|1> amplitude -0.5 i\n",
    "#State |1>|0> amplitude -0.5\n",
    "#State |1>|1> amplitude 0.5 i"
   ]
  },
  {
   "cell_type": "code",
   "execution_count": 20,
   "metadata": {},
   "outputs": [
    {
     "name": "stdout",
     "output_type": "stream",
     "text": [
      "State |0> Amplitude: (0.4999999999999999+0j)\n",
      "State |1> Amplitude: (-0.4999999999999999+0j)\n",
      "State |2> Amplitude: (-3.0616169978683824e-17-0.4999999999999999j)\n",
      "State |3> Amplitude: (3.0616169978683824e-17+0.4999999999999999j)\n",
      "Execution time:  0.013993978500366211\n"
     ]
    }
   ],
   "source": [
    "#Comparison with built-in qFt\n",
    "qFtest = Program()\n",
    "reg = qFtest.qalloc(2, QInt)\n",
    "reg.set_value(3)\n",
    "start = time.time()\n",
    "qFtest.apply(QFT_2, reg)\n",
    "circ = qFtest.to_circ()\n",
    "job = circ.to_job()\n",
    "result = qpu.submit(job)\n",
    "end = time.time()\n",
    "for sample in result:\n",
    "    print(\"State {} Amplitude: {}\".format(sample.state,sample.amplitude))\n",
    "print(\"Execution time: \", end-start)\n",
    "#Expected result: \n",
    "#State |0>|0> amplitude 0.5\n",
    "#State |0>|1> amplitude -0.5 i\n",
    "#State |1>|0> amplitude -0.5\n",
    "#State |1>|1> amplitude 0.5 i"
   ]
  },
  {
   "cell_type": "code",
   "execution_count": 21,
   "metadata": {},
   "outputs": [],
   "source": [
    "#Moving on to 3-qbit registers for the last batch of qFT tests\n",
    "qFt_3 = qFt(3)\n",
    "QFT_3 = qftarith.QFT(3)"
   ]
  },
  {
   "cell_type": "code",
   "execution_count": 22,
   "metadata": {},
   "outputs": [
    {
     "name": "stdout",
     "output_type": "stream",
     "text": [
      "State |0> Amplitude: (0.3535533905932737+0j)\n",
      "State |1> Amplitude: (0.3535533905932737+0j)\n",
      "State |2> Amplitude: (0.3535533905932737+0j)\n",
      "State |3> Amplitude: (0.3535533905932737+0j)\n",
      "State |4> Amplitude: (0.3535533905932737+0j)\n",
      "State |5> Amplitude: (0.3535533905932737+0j)\n",
      "State |6> Amplitude: (0.3535533905932737+0j)\n",
      "State |7> Amplitude: (0.3535533905932737+0j)\n",
      "Execution time:  0.009995222091674805\n"
     ]
    }
   ],
   "source": [
    "#Testing on vector |0>|0>|0> of the computational basis\n",
    "qFtest = Program()\n",
    "reg = qFtest.qalloc(3, QInt)\n",
    "start = time.time()\n",
    "qFtest.apply(qFt_3, reg)\n",
    "circ = qFtest.to_circ()\n",
    "job = circ.to_job()\n",
    "result = qpu.submit(job)\n",
    "end = time.time()\n",
    "for sample in result:\n",
    "    print(\"State {} Amplitude: {}\".format(sample.state,sample.amplitude))\n",
    "print(\"Execution time: \", end-start)\n",
    "#Expected result: \n",
    "#State |0>|0>|0> amplitude 0.3536\n",
    "#State |0>|0>|1> amplitude 0.3536\n",
    "#State |0>|1>|0> amplitude 0.3536\n",
    "#State |0>|1>|1> amplitude 0.3536\n",
    "#State |1>|0>|0> amplitude 0.3536\n",
    "#State |1>|0>|1> amplitude 0.3536\n",
    "#State |1>|1>|0> amplitude 0.3536\n",
    "#State |1>|1>|1> amplitude 0.3536"
   ]
  },
  {
   "cell_type": "code",
   "execution_count": 23,
   "metadata": {},
   "outputs": [
    {
     "name": "stdout",
     "output_type": "stream",
     "text": [
      "State |0> Amplitude: (0.3535533905932737+0j)\n",
      "State |1> Amplitude: (0.3535533905932737+0j)\n",
      "State |2> Amplitude: (0.3535533905932737+0j)\n",
      "State |3> Amplitude: (0.3535533905932737+0j)\n",
      "State |4> Amplitude: (0.3535533905932737+0j)\n",
      "State |5> Amplitude: (0.3535533905932737+0j)\n",
      "State |6> Amplitude: (0.3535533905932737+0j)\n",
      "State |7> Amplitude: (0.3535533905932737+0j)\n",
      "Execution time:  0.01598954200744629\n"
     ]
    }
   ],
   "source": [
    "#Comparison with built-in qFt\n",
    "qFtest = Program()\n",
    "reg = qFtest.qalloc(3, QInt)\n",
    "start = time.time()\n",
    "qFtest.apply(QFT_3, reg)\n",
    "circ = qFtest.to_circ()\n",
    "job = circ.to_job()\n",
    "result = qpu.submit(job)\n",
    "end = time.time()\n",
    "for sample in result:\n",
    "    print(\"State {} Amplitude: {}\".format(sample.state,sample.amplitude))\n",
    "print(\"Execution time: \", end-start)\n",
    "#Expected result: \n",
    "#State |0>|0>|0> amplitude 0.3536\n",
    "#State |0>|0>|1> amplitude 0.3536\n",
    "#State |0>|1>|0> amplitude 0.3536\n",
    "#State |0>|1>|1> amplitude 0.3536\n",
    "#State |1>|0>|0> amplitude 0.3536\n",
    "#State |1>|0>|1> amplitude 0.3536\n",
    "#State |1>|1>|0> amplitude 0.3536\n",
    "#State |1>|1>|1> amplitude 0.3536"
   ]
  },
  {
   "cell_type": "code",
   "execution_count": 31,
   "metadata": {},
   "outputs": [
    {
     "name": "stdout",
     "output_type": "stream",
     "text": [
      "State |0> Amplitude: (0.3535533905932737+0j)\n",
      "State |1> Amplitude: (0.24999999999999994+0.24999999999999994j)\n",
      "State |2> Amplitude: (2.1648901405887326e-17+0.3535533905932737j)\n",
      "State |3> Amplitude: (-0.24999999999999994+0.24999999999999994j)\n",
      "State |4> Amplitude: (-0.3535533905932737+0j)\n",
      "State |5> Amplitude: (-0.24999999999999994-0.24999999999999994j)\n",
      "State |6> Amplitude: (-2.1648901405887326e-17-0.3535533905932737j)\n",
      "State |7> Amplitude: (0.24999999999999994-0.24999999999999994j)\n",
      "Execution time:  0.011992216110229492\n"
     ]
    }
   ],
   "source": [
    "#Testing on vector |0>|0>|1> of the computational basis\n",
    "qFtest = Program()\n",
    "reg = qFtest.qalloc(3, QInt)\n",
    "reg.set_value(1)\n",
    "start = time.time()\n",
    "qFtest.apply(qFt_3, reg)\n",
    "circ = qFtest.to_circ()\n",
    "#%qatdisplay circ\n",
    "job = circ.to_job()\n",
    "result = qpu.submit(job)\n",
    "end = time.time()\n",
    "for sample in result:\n",
    "    print(\"State {} Amplitude: {}\".format(sample.state,sample.amplitude))\n",
    "print(\"Execution time: \", end-start)\n",
    "#Expected result: \n",
    "#State |0>|0>|0> amplitude 0.3536\n",
    "#State |0>|0>|1> amplitude 0.25 + 0.25 i\n",
    "#State |0>|1>|0> amplitude 0.3536 i\n",
    "#State |0>|1>|1> amplitude -0.25 + 0.25 i\n",
    "#State |1>|0>|0> amplitude -0.3536\n",
    "#State |1>|0>|1> amplitude -0.25 - 0.25 i\n",
    "#State |1>|1>|0> amplitude -0.3536 i\n",
    "#State |1>|1>|1> amplitude 0.25 - 0.25 i"
   ]
  },
  {
   "cell_type": "code",
   "execution_count": 32,
   "metadata": {},
   "outputs": [
    {
     "name": "stdout",
     "output_type": "stream",
     "text": [
      "State |0> Amplitude: (0.3535533905932737+0j)\n",
      "State |1> Amplitude: (-0.3535533905932737+0j)\n",
      "State |2> Amplitude: (2.1648901405887326e-17+0.3535533905932737j)\n",
      "State |3> Amplitude: (-2.1648901405887326e-17-0.3535533905932737j)\n",
      "State |4> Amplitude: (0.24999999999999994+0.24999999999999994j)\n",
      "State |5> Amplitude: (-0.24999999999999994-0.24999999999999994j)\n",
      "State |6> Amplitude: (-0.24999999999999994+0.24999999999999994j)\n",
      "State |7> Amplitude: (0.24999999999999994-0.24999999999999994j)\n",
      "Execution time:  0.012994527816772461\n"
     ]
    }
   ],
   "source": [
    "#Comparison with the built-in qFt\n",
    "qFtest = Program()\n",
    "reg = qFtest.qalloc(3, QInt)\n",
    "reg.set_value(1)\n",
    "start = time.time()\n",
    "qFtest.apply(QFT_3, reg)\n",
    "circ = qFtest.to_circ()\n",
    "#%qatdisplay circ\n",
    "job = circ.to_job()\n",
    "result = qpu.submit(job)\n",
    "end = time.time()\n",
    "for sample in result:\n",
    "    print(\"State {} Amplitude: {}\".format(sample.state,sample.amplitude))\n",
    "print(\"Execution time: \", end-start)\n",
    "#Expected result: \n",
    "#State |0>|0>|0> amplitude 0.3536\n",
    "#State |0>|0>|1> amplitude 0.25 + 0.25 i\n",
    "#State |0>|1>|0> amplitude 0.3536 i\n",
    "#State |0>|1>|1> amplitude -0.25 + 0.25 i\n",
    "#State |1>|0>|0> amplitude -0.3536\n",
    "#State |1>|0>|1> amplitude -0.25 - 0.25 i\n",
    "#State |1>|1>|0> amplitude -0.3536 i\n",
    "#State |1>|1>|1> amplitude 0.25 - 0.25 i"
   ]
  },
  {
   "cell_type": "code",
   "execution_count": 33,
   "metadata": {},
   "outputs": [
    {
     "name": "stdout",
     "output_type": "stream",
     "text": [
      "State |0> Amplitude: (0.3535533905932737+0j)\n",
      "State |1> Amplitude: (2.1648901405887326e-17+0.3535533905932737j)\n",
      "State |2> Amplitude: (-0.3535533905932737+0j)\n",
      "State |3> Amplitude: (-2.1648901405887326e-17-0.3535533905932737j)\n",
      "State |4> Amplitude: (0.3535533905932737+0j)\n",
      "State |5> Amplitude: (2.1648901405887326e-17+0.3535533905932737j)\n",
      "State |6> Amplitude: (-0.3535533905932737+0j)\n",
      "State |7> Amplitude: (-2.1648901405887326e-17-0.3535533905932737j)\n",
      "Execution time:  0.010989904403686523\n"
     ]
    }
   ],
   "source": [
    "#Testing on vector |0>|1>|0> of the computational basis\n",
    "qFtest = Program()\n",
    "reg = qFtest.qalloc(3, QInt)\n",
    "reg.set_value(2)\n",
    "start = time.time()\n",
    "qFtest.apply(qFt_3, reg)\n",
    "circ = qFtest.to_circ()\n",
    "#%qatdisplay circ\n",
    "job = circ.to_job()\n",
    "result = qpu.submit(job)\n",
    "end = time.time()\n",
    "for sample in result:\n",
    "    print(\"State {} Amplitude: {}\".format(sample.state,sample.amplitude))\n",
    "print(\"Execution time: \", end-start)\n",
    "#Expected result: \n",
    "#State |0>|0>|0> amplitude 0.3536\n",
    "#State |0>|0>|1> amplitude 0.3536 i\n",
    "#State |0>|1>|0> amplitude -0.3536\n",
    "#State |0>|1>|1> amplitude -0.3536 i\n",
    "#State |1>|0>|0> amplitude 0.3536\n",
    "#State |1>|0>|1> amplitude 0.3536 i\n",
    "#State |1>|1>|0> amplitude -0.3536\n",
    "#State |1>|1>|1> amplitude -0.3536 i"
   ]
  },
  {
   "cell_type": "code",
   "execution_count": 34,
   "metadata": {},
   "outputs": [
    {
     "name": "stdout",
     "output_type": "stream",
     "text": [
      "State |0> Amplitude: (0.3535533905932737+0j)\n",
      "State |1> Amplitude: (0.3535533905932737+0j)\n",
      "State |2> Amplitude: (-0.3535533905932737+0j)\n",
      "State |3> Amplitude: (-0.3535533905932737+0j)\n",
      "State |4> Amplitude: (2.1648901405887326e-17+0.3535533905932737j)\n",
      "State |5> Amplitude: (2.1648901405887326e-17+0.3535533905932737j)\n",
      "State |6> Amplitude: (-2.1648901405887326e-17-0.3535533905932737j)\n",
      "State |7> Amplitude: (-2.1648901405887326e-17-0.3535533905932737j)\n",
      "Execution time:  0.013996601104736328\n"
     ]
    }
   ],
   "source": [
    "#Comparison with the built-in qFt\n",
    "qFtest = Program()\n",
    "reg = qFtest.qalloc(3, QInt)\n",
    "reg.set_value(2)\n",
    "start = time.time()\n",
    "qFtest.apply(QFT_3, reg)\n",
    "circ = qFtest.to_circ()\n",
    "#%qatdisplay circ\n",
    "job = circ.to_job()\n",
    "result = qpu.submit(job)\n",
    "end = time.time()\n",
    "for sample in result:\n",
    "    print(\"State {} Amplitude: {}\".format(sample.state,sample.amplitude))\n",
    "print(\"Execution time: \", end-start)\n",
    "#Expected result: \n",
    "#State |0>|0>|0> amplitude 0.3536\n",
    "#State |0>|0>|1> amplitude 0.3536 i\n",
    "#State |0>|1>|0> amplitude -0.3536\n",
    "#State |0>|1>|1> amplitude -0.3536 i\n",
    "#State |1>|0>|0> amplitude 0.3536\n",
    "#State |1>|0>|1> amplitude 0.3536 i\n",
    "#State |1>|1>|0> amplitude -0.3536\n",
    "#State |1>|1>|1> amplitude -0.3536 i"
   ]
  },
  {
   "cell_type": "code",
   "execution_count": 35,
   "metadata": {},
   "outputs": [
    {
     "name": "stdout",
     "output_type": "stream",
     "text": [
      "State |0> Amplitude: (0.3535533905932737+0j)\n",
      "State |1> Amplitude: (-0.24999999999999992+0.24999999999999994j)\n",
      "State |2> Amplitude: (-2.1648901405887326e-17-0.3535533905932737j)\n",
      "State |3> Amplitude: (0.24999999999999994+0.24999999999999992j)\n",
      "State |4> Amplitude: (-0.3535533905932737+0j)\n",
      "State |5> Amplitude: (0.24999999999999992-0.24999999999999994j)\n",
      "State |6> Amplitude: (2.1648901405887326e-17+0.3535533905932737j)\n",
      "State |7> Amplitude: (-0.24999999999999994-0.24999999999999992j)\n",
      "Execution time:  0.013991117477416992\n"
     ]
    }
   ],
   "source": [
    "#Testing on vector |0>|1>|1> of the computational basis\n",
    "qFtest = Program()\n",
    "reg = qFtest.qalloc(3, QInt)\n",
    "reg.set_value(3)\n",
    "start = time.time()\n",
    "qFtest.apply(qFt_3, reg)\n",
    "circ = qFtest.to_circ()\n",
    "#%qatdisplay circ\n",
    "job = circ.to_job()\n",
    "result = qpu.submit(job)\n",
    "end = time.time()\n",
    "for sample in result:\n",
    "    print(\"State {} Amplitude: {}\".format(sample.state,sample.amplitude))\n",
    "print(\"Execution time: \", end-start)\n",
    "#Expected result: \n",
    "#State |0>|0>|0> amplitude 0.3536\n",
    "#State |0>|0>|1> amplitude -0.25 + 0.25 i\n",
    "#State |0>|1>|0> amplitude -0.3536 i\n",
    "#State |0>|1>|1> amplitude 0.25 + 0.25 i\n",
    "#State |1>|0>|0> amplitude -0.3536\n",
    "#State |1>|0>|1> amplitude 0.25 - 0.25 i\n",
    "#State |1>|1>|0> amplitude 0.3536 i\n",
    "#State |1>|1>|1> amplitude -0.25 - 0.25 i"
   ]
  },
  {
   "cell_type": "code",
   "execution_count": 36,
   "metadata": {},
   "outputs": [
    {
     "name": "stdout",
     "output_type": "stream",
     "text": [
      "State |0> Amplitude: (0.3535533905932737+0j)\n",
      "State |1> Amplitude: (-0.24999999999999992+0.24999999999999994j)\n",
      "State |2> Amplitude: (-2.1648901405887326e-17-0.3535533905932737j)\n",
      "State |3> Amplitude: (0.24999999999999994+0.24999999999999992j)\n",
      "State |4> Amplitude: (-0.3535533905932737+0j)\n",
      "State |5> Amplitude: (0.24999999999999992-0.24999999999999994j)\n",
      "State |6> Amplitude: (2.1648901405887326e-17+0.3535533905932737j)\n",
      "State |7> Amplitude: (-0.24999999999999994-0.24999999999999992j)\n",
      "Execution time:  0.014992475509643555\n"
     ]
    }
   ],
   "source": [
    "#Comparison with the built-in qFt\n",
    "qFtest = Program()\n",
    "reg = qFtest.qalloc(3, QInt)\n",
    "reg.set_value(3)\n",
    "start = time.time()\n",
    "qFtest.apply(qFt_3, reg)\n",
    "circ = qFtest.to_circ()\n",
    "#%qatdisplay circ\n",
    "job = circ.to_job()\n",
    "result = qpu.submit(job)\n",
    "end = time.time()\n",
    "for sample in result:\n",
    "    print(\"State {} Amplitude: {}\".format(sample.state,sample.amplitude))\n",
    "print(\"Execution time: \", end-start)\n",
    "#Expected result: \n",
    "#State |0>|0>|0> amplitude 0.3536\n",
    "#State |0>|0>|1> amplitude -0.25 + 0.25 i\n",
    "#State |0>|1>|0> amplitude -0.3536 i\n",
    "#State |0>|1>|1> amplitude 0.25 + 0.25 i\n",
    "#State |1>|0>|0> amplitude -0.3536\n",
    "#State |1>|0>|1> amplitude 0.25 - 0.25 i\n",
    "#State |1>|1>|0> amplitude 0.3536 i\n",
    "#State |1>|1>|1> amplitude -0.25 - 0.25 i"
   ]
  },
  {
   "cell_type": "markdown",
   "metadata": {},
   "source": [
    "# Phase function testing"
   ]
  },
  {
   "cell_type": "code",
   "execution_count": null,
   "metadata": {},
   "outputs": [],
   "source": [
    "simu = JLPsim(2, 2, 2)\n",
    "simu.lattice[0][0][1].set_value(1)\n",
    "simu.lattice[0][1][0].set_value(2)\n",
    "simu.lattice[0][1][1].set_value(3)\n",
    "simu.fld_phase()\n",
    "qpu = PyLinalg()\n",
    "circ = simu.to_circ(link=[qftarith])\n",
    "job = circ.to_job()\n",
    "result = qpu.submit(job)\n",
    "for sample in result: \n",
    "    print(\"State: {}\".format(sample.state))"
   ]
  }
 ],
 "metadata": {
  "authors": [
   "Simon Martiel",
   "Jerome Pioux"
  ],
  "kernelspec": {
   "display_name": "Python 3 (ipykernel)",
   "language": "python",
   "name": "python3"
  },
  "language_info": {
   "codemirror_mode": {
    "name": "ipython",
    "version": 3
   },
   "file_extension": ".py",
   "mimetype": "text/x-python",
   "name": "python",
   "nbconvert_exporter": "python",
   "pygments_lexer": "ipython3",
   "version": "3.9.12"
  }
 },
 "nbformat": 4,
 "nbformat_minor": 4
}
