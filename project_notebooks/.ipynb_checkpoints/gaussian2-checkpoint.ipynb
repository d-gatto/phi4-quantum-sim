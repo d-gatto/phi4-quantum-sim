{
 "cells": [
  {
   "cell_type": "markdown",
   "metadata": {},
   "source": [
    "# Discretised Gaussian state preparation subroutine\n",
    "This subroutine implements a finite-qubit approximation of a quantum state characterised by a single-variate Gaussian waveunction. The quantum circuit it generates is a slightly simplified version of the one outlined in https://arxiv.org/abs/0801.0342. The parameters of the subroutine are:\n",
    "- qbits (int): the size of the register\n",
    "- mean (float): the mean of the Gaussian distribution\n",
    "- var (float): the variance of the Gaussin distribution"
   ]
  },
  {
   "cell_type": "code",
   "execution_count": 35,
   "metadata": {},
   "outputs": [],
   "source": [
    "from qat.lang.AQASM import Program, QRoutine, X, RY\n",
    "import mpmath as mp\n",
    "from qat.qpus import PyLinalg\n",
    "\n",
    "# The algorithm requires a classical computation of a specific function of the Gaussian parameters\n",
    "def JacobiTheta(mean, var):\n",
    "    return mp.jtheta(3,mean/(mp.j*var**2),mp.exp(-1/var**2))\n",
    "# The function is used to determine the qubit rotation angle employed throughout the algorithm\n",
    "def alpha(mean, var):\n",
    "    return mp.acos(mp.sqrt(JacobiTheta(mean/2,var/2)/JacobiTheta(mean,var)))\n",
    "# The angle must be converted to float for the quantum gate to accept it\n",
    "def conv_angle(mean, var):\n",
    "    return float(mp.re(alpha(mean, var)))\n",
    "# The Gaussian state preparation subroutine is defined recursively\n",
    "def discr_gaussian(qbits, mean, var):\n",
    "    rout = QRoutine()\n",
    "    wires = rout.new_wires(qbits)\n",
    "    rout.apply(RY(2*conv_angle(mean,var)), wires[qbits-1]) #Rotate rightmost qubit\n",
    "    if qbits>1:\n",
    "        rout.apply(X, wires[qbits-1]) #Switch logical values\n",
    "        rout.apply(discr_gaussian(qbits-1, mean/2, var/2).ctrl(), wires[qbits-1], wires[0:qbits-1]) #Complete one half of the state\n",
    "        rout.apply(X, wires[qbits-1]) #Unswitch logical values\n",
    "        rout.apply(discr_gaussian(qbits-1, (mean-1)/2, var/2).ctrl(), wires[qbits-1], wires[0:qbits-1]) #Complete the other half\n",
    "    return rout"
   ]
  },
  {
   "cell_type": "markdown",
   "metadata": {
    "tags": []
   },
   "source": [
    "# Testing\n",
    "Each quantum state of the computational basis represents the wavefunction's continuous variable set to the value of the basis label two's complement binary representation. The amplitudes arising this implementation of Kitaev's algorithm are compared with the corresponding values of the continuous Gaussian wavefunction."
   ]
  },
  {
   "cell_type": "code",
   "execution_count": 36,
   "metadata": {},
   "outputs": [
    {
     "name": "stdout",
     "output_type": "stream",
     "text": [
      "State: |00> Amplitude: (0.7510867813961675+0j)\n",
      "State: |01> Amplitude: (0.45563351454945633+0j)\n",
      "State: |10> Amplitude: (0.1437527309325512+0j)\n",
      "State: |11> Amplitude: (0.45563351454945633+0j)\n"
     ]
    }
   ],
   "source": [
    "prog = Program()\n",
    "x = prog.qalloc(2)\n",
    "prog.apply(discr_gaussian(2,0,1), x)\n",
    "circ = prog.to_circ()\n",
    "#%qatdisplay circ\n",
    "qpu = PyLinalg()\n",
    "job = circ.to_job()\n",
    "result = qpu.submit(job)\n",
    "for sample in result: \n",
    "    print(\"State: {} Amplitude: {}\".format(sample.state,sample.amplitude))\n",
    "# Expected results: \n",
    "# State: |00> Amplitude: 0.751126\n",
    "# State: |01> Amplitude: 0.455581\n",
    "# State: |10> Amplitude: 0.101654\n",
    "# State: |11> Amplitude: 0.455581"
   ]
  },
  {
   "cell_type": "code",
   "execution_count": 37,
   "metadata": {},
   "outputs": [
    {
     "name": "stdout",
     "output_type": "stream",
     "text": [
      "State: |000> Amplitude: (0.7510866968724995+0j)\n",
      "State: |001> Amplitude: (0.45555710975545993+0j)\n",
      "State: |010> Amplitude: (0.10164853085649213+0j)\n",
      "State: |011> Amplitude: (0.008343819984963021+0j)\n",
      "State: |100> Amplitude: (0.00035632739474289+0j)\n",
      "State: |101> Amplitude: (0.008343819984962695+0j)\n",
      "State: |110> Amplitude: (0.10164853085649213+0j)\n",
      "State: |111> Amplitude: (0.45555710975545993+0j)\n"
     ]
    }
   ],
   "source": [
    "prog = Program()\n",
    "x = prog.qalloc(3)\n",
    "prog.apply(discr_gaussian(3,0,1), x)\n",
    "circ = prog.to_circ()\n",
    "#%qatdisplay circ\n",
    "qpu = PyLinalg()\n",
    "job = circ.to_job()\n",
    "result = qpu.submit(job)\n",
    "for sample in result: \n",
    "    print(\"State: {} Amplitude: {}\".format(sample.state,sample.amplitude))\n",
    "# Expected results: \n",
    "# State: |000> Amplitude: 0.751126\n",
    "# State: |001> Amplitude: 0.455581\n",
    "# State: |010> Amplitude: 0.101654\n",
    "# State: |011> Amplitude: 0.00834425\n",
    "# State: |100> Amplitude: 0.000251975\n",
    "# State: |101> Amplitude: 0.00834425\n",
    "# State: |110> Amplitude: 0.101654\n",
    "# State: |111> Amplitude: 0.455581"
   ]
  },
  {
   "cell_type": "code",
   "execution_count": 38,
   "metadata": {},
   "outputs": [
    {
     "name": "stdout",
     "output_type": "stream",
     "text": [
      "State: |0000> Amplitude: (0.7510866968724995+0j)\n",
      "State: |0001> Amplitude: (0.45555710975545993+0j)\n",
      "State: |0010> Amplitude: (0.10164853085649149+0j)\n",
      "State: |0011> Amplitude: (0.008343819515476442+0j)\n",
      "State: |0100> Amplitude: (0.0002519615171452333+0j)\n",
      "State: |0101> Amplitude: (2.7990396214060797e-06+0j)\n",
      "State: |0110> Amplitude: (1.1439035187656408e-08+0j)\n",
      "State: |0111> Amplitude: (1.7197927250396413e-11+0j)\n",
      "State: |1010> Amplitude: (1.143559185497499e-08+0j)\n",
      "State: |1011> Amplitude: (2.7990396209752525e-06+0j)\n",
      "State: |1100> Amplitude: (0.0002519615171452333+0j)\n",
      "State: |1101> Amplitude: (0.008343819515476116+0j)\n",
      "State: |1110> Amplitude: (0.10164853085649149+0j)\n",
      "State: |1111> Amplitude: (0.45555710975545993+0j)\n"
     ]
    }
   ],
   "source": [
    "prog = Program()\n",
    "x = prog.qalloc(4)\n",
    "prog.apply(discr_gaussian(4,0,1), x)\n",
    "circ = prog.to_circ()\n",
    "#%qatdisplay circ\n",
    "qpu = PyLinalg()\n",
    "job = circ.to_job()\n",
    "result = qpu.submit(job)\n",
    "for sample in result: \n",
    "    print(\"State: {} Amplitude: {}\".format(sample.state,sample.amplitude))\n",
    "# Expected results: \n",
    "# State: |0000> Amplitude: 0.751126\n",
    "# State: |0001> Amplitude: 0.455581\n",
    "# State: |0010> Amplitude: 0.101654\n",
    "# State: |0011> Amplitude: 0.00834425\n",
    "# State: |0100> Amplitude: 0.000251975\n",
    "# State: |0101> Amplitude: 2.79918*10^-6\n",
    "# State: |0110> Amplitude: 1.14396*10^-8\n",
    "# State: |0111> Amplitude: 1.71988*10^-11\n",
    "# State: |1000> Amplitude: 9.51238*10^-15\n",
    "# State: |1001> Amplitude: 1.71988*10^-11\n",
    "# State: |1010> Amplitude: 1.14396*10^-8\n",
    "# State: |1011> Amplitude: 2.79918*10^-6\n",
    "# State: |1100> Amplitude: 0.000251975\n",
    "# State: |1101> Amplitude: 0.00834425\n",
    "# State: |1110> Amplitude: 0.101654\n",
    "# State: |1111> Amplitude: 0.455581"
   ]
  },
  {
   "cell_type": "code",
   "execution_count": 53,
   "metadata": {},
   "outputs": [
    {
     "name": "stdout",
     "output_type": "stream",
     "text": [
      "State: |000> Amplitude: (0.46871846031853925+0j)\n",
      "State: |001> Amplitude: (0.5311260257839485+0j)\n",
      "State: |010> Amplitude: (0.46871846031853925+0j)\n",
      "State: |011> Amplitude: (0.3221982116990303+0j)\n",
      "State: |100> Amplitude: (0.17400328549632638+0j)\n",
      "State: |101> Amplitude: (0.10165378830641844+0j)\n",
      "State: |110> Amplitude: (0.17400328549632638+0j)\n",
      "State: |111> Amplitude: (0.3221982116990303+0j)\n"
     ]
    }
   ],
   "source": [
    "prog = Program()\n",
    "x = prog.qalloc(3)\n",
    "prog.apply(discr_gaussian(3,1,2), x)\n",
    "circ = prog.to_circ()\n",
    "#%qatdisplay circ\n",
    "qpu = PyLinalg()\n",
    "job = circ.to_job()\n",
    "result = qpu.submit(job)\n",
    "for sample in result: \n",
    "    print(\"State: {} Amplitude: {}\".format(sample.state,sample.amplitude))\n",
    "# Expected results: \n",
    "# State: |000> Amplitude: 0.468717\n",
    "# State: |001> Amplitude: 0.531126\n",
    "# State: |010> Amplitude: 0.468717\n",
    "# State: |011> Amplitude: 0.322144\n",
    "# State: |100> Amplitude: 0.023336\n",
    "# State: |101> Amplitude: 0.0718801\n",
    "# State: |110> Amplitude: 0.172431\n",
    "# State: |111> Amplitude: 0.322144"
   ]
  },
  {
   "cell_type": "code",
   "execution_count": 54,
   "metadata": {},
   "outputs": [
    {
     "name": "stdout",
     "output_type": "stream",
     "text": [
      "State: |000> Amplitude: (0.5319864564617328+0j)\n",
      "State: |001> Amplitude: (0.29852101539504067+0j)\n",
      "State: |010> Amplitude: (0.10741678131063782+0j)\n",
      "State: |011> Amplitude: (0.02760457764675959+0j)\n",
      "State: |100> Amplitude: (0.0631159504173784+0j)\n",
      "State: |101> Amplitude: (0.20919902639250576+0j)\n",
      "State: |110> Amplitude: (0.44534098827542606+0j)\n",
      "State: |111> Amplitude: (0.6078641165719646+0j)\n"
     ]
    }
   ],
   "source": [
    "prog = Program()\n",
    "x = prog.qalloc(3)\n",
    "prog.apply(discr_gaussian(3,-0.8,1.5), x)\n",
    "circ = prog.to_circ()\n",
    "#%qatdisplay circ\n",
    "qpu = PyLinalg()\n",
    "job = circ.to_job()\n",
    "result = qpu.submit(job)\n",
    "for sample in result: \n",
    "    print(\"State: {} Amplitude: {}\".format(sample.state,sample.amplitude))\n",
    "# Expected results: \n",
    "# State: |000> Amplitude: 0.531986\n",
    "# State: |001> Amplitude: 0.298521\n",
    "# State: |010> Amplitude: 0.107406\n",
    "# State: |011> Amplitude: 0.0247779\n",
    "# State: |100> Amplitude: 0.0630094\n",
    "# State: |101> Amplitude: 0.209199\n",
    "# State: |110> Amplitude: 0.445341\n",
    "# State: |111> Amplitude: 0.607864"
   ]
  },
  {
   "cell_type": "code",
   "execution_count": null,
   "metadata": {},
   "outputs": [],
   "source": []
  }
 ],
 "metadata": {
  "authors": [
   "Simon Martiel",
   "Jerome Pioux"
  ],
  "kernelspec": {
   "display_name": "Python 3 (ipykernel)",
   "language": "python",
   "name": "python3"
  },
  "language_info": {
   "codemirror_mode": {
    "name": "ipython",
    "version": 3
   },
   "file_extension": ".py",
   "mimetype": "text/x-python",
   "name": "python",
   "nbconvert_exporter": "python",
   "pygments_lexer": "ipython3",
   "version": "3.9.12"
  }
 },
 "nbformat": 4,
 "nbformat_minor": 4
}
