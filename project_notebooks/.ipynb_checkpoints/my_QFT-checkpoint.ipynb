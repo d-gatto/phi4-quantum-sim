{
 "cells": [
  {
   "cell_type": "code",
   "execution_count": 20,
   "metadata": {},
   "outputs": [],
   "source": [
    "from qat.lang.AQASM import Program, H, PH\n",
    "from math import pi"
   ]
  },
  {
   "cell_type": "code",
   "execution_count": 21,
   "metadata": {},
   "outputs": [],
   "source": [
    "class JLPsim(Program):\n",
    "    def __init__(self):\n",
    "        super.__init__()\n",
    "        self.registry = []\n",
    "    def create_lattice(self, size, dim, prec):\n",
    "        for i in range(size):\n",
    "            if i==0 or d==3:\n",
    "                for j in range(size):\n",
    "                    for k in range(size):\n",
    "                        self.registry.append(self.qalloc(prec))\n",
    "    def QFT(self):\n",
    "        for j in range(len(self.registry)-1):\n",
    "            self.apply(H, self.registry[j])\n",
    "            for k in range(j+1, len(self.registry) ): \n",
    "                self.apply(PH(2*pi/2**(k+1)).ctrl(), self.registry[k], self.registry[j])\n",
    "        self.apply(H, self.registry[len(self.registry)-1])\n",
    "    def phi_phase(self):\n",
    "        "
   ]
  },
  {
   "cell_type": "code",
   "execution_count": null,
   "metadata": {},
   "outputs": [],
   "source": []
  }
 ],
 "metadata": {
  "authors": [
   "Simon Martiel",
   "Jerome Pioux"
  ],
  "kernelspec": {
   "display_name": "Python 3 (ipykernel)",
   "language": "python",
   "name": "python3"
  },
  "language_info": {
   "codemirror_mode": {
    "name": "ipython",
    "version": 3
   },
   "file_extension": ".py",
   "mimetype": "text/x-python",
   "name": "python",
   "nbconvert_exporter": "python",
   "pygments_lexer": "ipython3",
   "version": "3.9.12"
  }
 },
 "nbformat": 4,
 "nbformat_minor": 4
}
