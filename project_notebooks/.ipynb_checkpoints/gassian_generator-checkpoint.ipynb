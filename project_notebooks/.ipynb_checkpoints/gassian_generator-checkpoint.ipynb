{
 "cells": [
  {
   "cell_type": "markdown",
   "metadata": {},
   "source": [
    "# Definitions\n",
    "I define a child class for my simlutaion. It has a registry field to stores all the qubits necessary to run the simulation. \n",
    "I also define a Quantum Fourier Transform which will be an instrumental part of the simulation."
   ]
  },
  {
   "cell_type": "code",
   "execution_count": 1,
   "metadata": {},
   "outputs": [],
   "source": [
    "from qat.lang.AQASM import Program, QRoutine, X, H, PH, RY, SWAP\n",
    "from qat.lang.AQASM.qint import QInt\n",
    "import qat.lang.AQASM.qftarith as qftarith\n",
    "import mpmath as mp\n",
    "\n",
    "# Vacuum creation subroutine\n",
    "def alpha(mean, var):\n",
    "    return mp.acos(mp.sqrt(mp.jtheta(3,2*mean/(mp.j*var**2),mp.exp(-4/var**2))/mp.jtheta(3,mean/(mp.j*var**2),mp.exp(-1/var**2))))\n",
    "def discr_gaussian(qbits, mean, var):\n",
    "    rout = QRoutine()\n",
    "    wires = rout.new_wires(qbits)\n",
    "    rout.apply(RY(2*alpha(mean,var)), wires[qbits-1])\n",
    "    if qbits>1:\n",
    "        rout.apply(X, wires[qbits-1])\n",
    "        rout.apply(discr_gaussian(qbits-1, mean/2, var/2).ctrl(), wires[qbits-1], wires[0:qbits-1])\n",
    "        rout.apply(X, wires[qbits-1])\n",
    "        rout.apply(discr_gaussian(qbits-1, (mean-1)/2, var/2).ctrl(), wires[qbits-1], wires[0:qbits-1])\n",
    "    return rout\n",
    "\n",
    "# Quantum Fourier Transform subroutine\n",
    "def qFt(qbits):\n",
    "    rout = QRoutine()\n",
    "    wires = rout.new_wires(qbits)  \n",
    "    for j in range(qbits):\n",
    "        rout.apply(H, wires[j])\n",
    "        for k in range(1, qbits-j):\n",
    "            rout.apply(PH(-mp.pi/2**k).ctrl(), wires[k+j], wires[j])\n",
    "    if(qbits>1):\n",
    "        for h in range(mp.floor(qbits/2)):\n",
    "            rout.apply(SWAP, wires[h], wires[m-h-1])\n",
    "    return rout\n",
    "\n",
    "def qFtInv(qbits):\n",
    "    rout = QRoutine()\n",
    "    wires = rout.new_wires(qbits)  \n",
    "    for j in range(qbits):\n",
    "        rout.apply(H, wires[j])\n",
    "        for k in range(1, qbits-j):\n",
    "            rout.apply(PH(mp.pi/2**k).ctrl(), wires[k+j], wires[j])\n",
    "    if(qbits>1):\n",
    "        for h in range(mp.floor(qbits/2)):\n",
    "            rout.apply(SWAP, wires[h], wires[m-h-1])\n",
    "    return rout\n",
    "\n",
    "# Upon initialisation a cubic matrix with one register per lattice site is created. \n",
    "# If d=2 the \"cubic\" matrix has only a single square slice.\n",
    "class JLPsim(Program):\n",
    "    def __init__(self, dimension, length, precision):\n",
    "        super().__init__()\n",
    "        self.dim = dimension\n",
    "        self.length = length\n",
    "        self.prec = precision\n",
    "        self.lattice = []\n",
    "# Create lattice\n",
    "        for i in range(self.length):\n",
    "            qmatrix = []\n",
    "            if i==0 or self.dim==3:\n",
    "                for j in range(self.length):\n",
    "                    qrow = []\n",
    "                    for k in range(self.length):\n",
    "                        qrow.append(self.qalloc(self.prec, QInt))\n",
    "                    qmatrix.append(qrow)\n",
    "                self.lattice.append(qmatrix)\n",
    "\n",
    "    def next(self, i): \n",
    "        return (i+1)%self.length\n",
    "\n",
    "# Phase function\n",
    "    def fld_phase(self):\n",
    "        self.Theta = self.qalloc(self.prec, QInt)\n",
    "        operate = self.qalloc(self.prec, QInt)\n",
    "        dummy = self.qalloc(self.prec, QInt)\n",
    "        for i in range(len(self.lattice)):\n",
    "            for j in range(self.length):\n",
    "                for k in range(self.length):\n",
    "                    dummy += self.lattice[i][j][k]\n",
    "                    operate += dummy*self.lattice[i][j][k]\n",
    "                    self.Theta += operate\n",
    "                    self.reset(dummy)\n",
    "                    dummy += operate\n",
    "                    self.Theta += operate*dummy\n",
    "                    if self.dim==3:\n",
    "                        if self.lattice[(i+1)%self.length][j][k]>self.lattice[i][j][k]:\n",
    "                            operate += self.lattice[(i+1)%self.length][j][k] - self.lattice[i][j][k]\n",
    "                        else:\n",
    "                            operate += self.lattice[i][j][k] - self.lattice[(i+1)%self.length][j][k]\n",
    "                        dummy += operate\n",
    "                        self.Theta += operate*dummy\n",
    "                        self.reset(operate)\n",
    "                        self.reset(dummy)\n",
    "                    if(self.lattice[i][(j+1)%self.length][k]>self.lattice[i][j][k]):\n",
    "                        operate += self.lattice[i][(j+1)%self.length][k] - self.lattice[i][j][k]\n",
    "                    else:\n",
    "                        operate += self.lattice[i][j][k] - self.lattice[i][(j+1)%self.length][k]\n",
    "                    dummy += operate\n",
    "                    self.Theta += operate*dummy\n",
    "                    self.reset(operate)\n",
    "                    self.reset(dummy)\n",
    "                    if self.lattice[i][j][(k+1)%self.length]>self.lattice[i][j][k]:\n",
    "                        operate += self.lattice[i][j][(k+1)%self.length] - self.lattice[i][j][k]\n",
    "                    else:\n",
    "                        operate += self.lattice[i][j][k] - self.lattice[i][j][(k+1)%self.length]\n",
    "                    dummy += operate\n",
    "                    self.Theta += operate*dummy\n",
    "                    self.reset(operate)\n",
    "                    self.reset(dummy)"
   ]
  },
  {
   "cell_type": "markdown",
   "metadata": {
    "tags": []
   },
   "source": [
    "# Testing"
   ]
  },
  {
   "cell_type": "markdown",
   "metadata": {
    "jp-MarkdownHeadingCollapsed": true,
    "tags": []
   },
   "source": [
    "## JLPsim Testing\n",
    "Let's create a few instances to familiarise with the qubit registry. Each of the qubits is set to the value corresponding to its lattice site \"counting in binary\" "
   ]
  },
  {
   "cell_type": "code",
   "execution_count": 44,
   "metadata": {},
   "outputs": [],
   "source": [
    "# Creating a square lattice with 2^2=4 2-qbit registers \n",
    "simu = JLPsim(2,2,2)\n",
    "for i in range(2):\n",
    "    for j in range(2):\n",
    "        simu.registry[0][i][j].set_value(2*i+j)\n",
    "circ = simu.to_circ()\n",
    "#%qatdisplay circ"
   ]
  },
  {
   "cell_type": "code",
   "execution_count": 45,
   "metadata": {},
   "outputs": [],
   "source": [
    "# Creating a square lattice with 3^2=9 4-qbit registers \n",
    "simu = JLPsim(2,3,4)\n",
    "for i in range(3):\n",
    "    for j in range(3):\n",
    "        simu.registry[0][i][j].set_value(3*i+j)\n",
    "circ = simu.to_circ()\n",
    "#%qatdisplay circ"
   ]
  },
  {
   "cell_type": "code",
   "execution_count": 46,
   "metadata": {},
   "outputs": [],
   "source": [
    "# Creating a cubic lattice with 2^3=8 3-qbit registers \n",
    "simu = JLPsim(3,2,3)\n",
    "for i in range(2):\n",
    "    for j in range(2):\n",
    "        for k in range(2):\n",
    "            simu.registry[i][j][k].set_value(4*i+2*j+k)\n",
    "circ = simu.to_circ()\n",
    "#%qatdisplay circ"
   ]
  },
  {
   "cell_type": "markdown",
   "metadata": {
    "tags": []
   },
   "source": [
    "## Quantum Fourier Transform Testing"
   ]
  },
  {
   "cell_type": "markdown",
   "metadata": {},
   "source": [
    "Let's apply the qFT on the computational basis vectors for various dimensionalities"
   ]
  },
  {
   "cell_type": "code",
   "execution_count": 6,
   "metadata": {},
   "outputs": [],
   "source": [
    "#Start with a single qubit\n",
    "from qat.qpus import PyLinalg\n",
    "import time\n",
    "qpu = PyLinalg()\n",
    "qFt_1 = qFt(1)\n",
    "QFT_1 = qftarith.QFT(1)"
   ]
  },
  {
   "cell_type": "code",
   "execution_count": 7,
   "metadata": {},
   "outputs": [
    {
     "name": "stdout",
     "output_type": "stream",
     "text": [
      "State |0> Amplitude: (0.7071067811865475+0j)\n",
      "State |1> Amplitude: (0.7071067811865475+0j)\n",
      "Execution time:  0.006995439529418945\n"
     ]
    }
   ],
   "source": [
    "#Testing on vector |0> of the computational basis\n",
    "qFtest = Program()\n",
    "reg = qFtest.qalloc(1, QInt)\n",
    "start = time.time()\n",
    "qFtest.apply(qFt_1, reg)\n",
    "circ = qFtest.to_circ()\n",
    "#%qatdisplay circ\n",
    "job = circ.to_job()\n",
    "result = qpu.submit(job)\n",
    "end = time.time()\n",
    "for sample in result:\n",
    "    print(\"State {} Amplitude: {}\".format(sample.state,sample.amplitude))\n",
    "print(\"Execution time: \", end-start)\n",
    "# Expected result: \n",
    "# State |0> amplitude 0.707\n",
    "# State |1> amplitude 0.707"
   ]
  },
  {
   "cell_type": "code",
   "execution_count": 8,
   "metadata": {},
   "outputs": [
    {
     "name": "stdout",
     "output_type": "stream",
     "text": [
      "State |0> Amplitude: (0.7071067811865475+0j)\n",
      "State |1> Amplitude: (0.7071067811865475+0j)\n",
      "Execution time:  0.008993864059448242\n"
     ]
    }
   ],
   "source": [
    "#Comparison qith the built-in qFt\n",
    "qFtest = Program()\n",
    "reg = qFtest.qalloc(1, QInt)\n",
    "start = time.time()\n",
    "qFtest.apply(QFT_1, reg)\n",
    "circ = qFtest.to_circ()\n",
    "#%qatdisplay circ\n",
    "job = circ.to_job()\n",
    "result = qpu.submit(job)\n",
    "end = time.time()\n",
    "for sample in result:\n",
    "    print(\"State {} Amplitude: {}\".format(sample.state,sample.amplitude))\n",
    "print(\"Execution time: \", end-start)\n",
    "# Expected result: \n",
    "# State |0> amplitude 0.707\n",
    "# State |1> amplitude 0.707"
   ]
  },
  {
   "cell_type": "code",
   "execution_count": 9,
   "metadata": {},
   "outputs": [
    {
     "name": "stdout",
     "output_type": "stream",
     "text": [
      "State |0> Amplitude: (0.7071067811865475+0j)\n",
      "State |1> Amplitude: (-0.7071067811865475+0j)\n",
      "Execution time:  0.0069980621337890625\n"
     ]
    }
   ],
   "source": [
    "#Testing on vector |1> of the computational basis\n",
    "qFtest = Program()\n",
    "reg = qFtest.qalloc(1, QInt)\n",
    "reg.set_value(1)\n",
    "start = time.time()\n",
    "qFtest.apply(qFt_1, reg)\n",
    "circ = qFtest.to_circ()\n",
    "job = circ.to_job()\n",
    "result = qpu.submit(job)\n",
    "end = time.time()\n",
    "for sample in result:\n",
    "    print(\"State {} Amplitude: {}\".format(sample.state,sample.amplitude))\n",
    "print(\"Execution time: \", end-start)\n",
    "#Expected result: \n",
    "#State |0> amplitude 0.707\n",
    "#State |1> amplitude -0.707"
   ]
  },
  {
   "cell_type": "code",
   "execution_count": 11,
   "metadata": {},
   "outputs": [
    {
     "name": "stdout",
     "output_type": "stream",
     "text": [
      "State |0> Amplitude: (0.7071067811865475+0j)\n",
      "State |1> Amplitude: (-0.7071067811865475+0j)\n",
      "Execution time:  0.00899505615234375\n"
     ]
    }
   ],
   "source": [
    "#Comparison with the built-in qFt\n",
    "qFtest = Program()\n",
    "reg = qFtest.qalloc(1, QInt)\n",
    "reg.set_value(1)\n",
    "start = time.time()\n",
    "qFtest.apply(QFT_1, reg)\n",
    "circ = qFtest.to_circ()\n",
    "job = circ.to_job()\n",
    "result = qpu.submit(job)\n",
    "end = time.time()\n",
    "for sample in result:\n",
    "    print(\"State {} Amplitude: {}\".format(sample.state,sample.amplitude))\n",
    "print(\"Execution time: \", end-start)\n",
    "#Expected result: \n",
    "#State |0> amplitude 0.707\n",
    "#State |1> amplitude -0.707"
   ]
  },
  {
   "cell_type": "code",
   "execution_count": 12,
   "metadata": {},
   "outputs": [],
   "source": [
    "#Let's continue with 2-qbit registers\n",
    "qFt_2 = qFt(2)\n",
    "QFT_2 = qftarith.QFT(2)"
   ]
  },
  {
   "cell_type": "code",
   "execution_count": 13,
   "metadata": {},
   "outputs": [
    {
     "name": "stdout",
     "output_type": "stream",
     "text": [
      "State |0> Amplitude: (0.4999999999999999+0j)\n",
      "State |1> Amplitude: (0.4999999999999999+0j)\n",
      "State |2> Amplitude: (0.4999999999999999+0j)\n",
      "State |3> Amplitude: (0.4999999999999999+0j)\n",
      "Execution time:  0.006996631622314453\n"
     ]
    }
   ],
   "source": [
    "#Testing on vector |0>|0> of the computational basis\n",
    "qFtest = Program()\n",
    "reg = qFtest.qalloc(2, QInt)\n",
    "start = time.time()\n",
    "qFtest.apply(qFt_2, reg)\n",
    "circ = qFtest.to_circ()\n",
    "job = circ.to_job()\n",
    "result = qpu.submit(job)\n",
    "end = time.time()\n",
    "for sample in result:\n",
    "    print(\"State {} Amplitude: {}\".format(sample.state,sample.amplitude))\n",
    "print(\"Execution time: \", end-start)\n",
    "#Expected result: \n",
    "#State |0>|0> amplitude 0.5\n",
    "#State |0>|1> amplitude 0.5\n",
    "#State |1>|0> amplitude 0.5\n",
    "#State |1>|1> amplitude 0.5"
   ]
  },
  {
   "cell_type": "code",
   "execution_count": 14,
   "metadata": {},
   "outputs": [
    {
     "name": "stdout",
     "output_type": "stream",
     "text": [
      "State |0> Amplitude: (0.4999999999999999+0j)\n",
      "State |1> Amplitude: (0.4999999999999999+0j)\n",
      "State |2> Amplitude: (0.4999999999999999+0j)\n",
      "State |3> Amplitude: (0.4999999999999999+0j)\n",
      "Execution time:  0.009992837905883789\n"
     ]
    }
   ],
   "source": [
    "#Comparison with the built-in qFt\n",
    "qFtest = Program()\n",
    "reg = qFtest.qalloc(2, QInt)\n",
    "start = time.time()\n",
    "qFtest.apply(QFT_2, reg)\n",
    "circ = qFtest.to_circ()\n",
    "job = circ.to_job()\n",
    "result = qpu.submit(job)\n",
    "end = time.time()\n",
    "for sample in result:\n",
    "    print(\"State {} Amplitude: {}\".format(sample.state,sample.amplitude))\n",
    "print(\"Execution time: \", end-start)\n",
    "#Expected result: \n",
    "#State |0>|0> amplitude 0.5\n",
    "#State |0>|1> amplitude 0.5\n",
    "#State |1>|0> amplitude 0.5\n",
    "#State |1>|1> amplitude 0.5"
   ]
  },
  {
   "cell_type": "code",
   "execution_count": 15,
   "metadata": {},
   "outputs": [
    {
     "name": "stdout",
     "output_type": "stream",
     "text": [
      "State |0> Amplitude: (0.4999999999999999+0j)\n",
      "State |1> Amplitude: (3.0616169978683824e-17+0.4999999999999999j)\n",
      "State |2> Amplitude: (-0.4999999999999999+0j)\n",
      "State |3> Amplitude: (-3.0616169978683824e-17-0.4999999999999999j)\n",
      "Execution time:  0.007998466491699219\n"
     ]
    }
   ],
   "source": [
    "#Testing on vector |0>|1> of the computational basis\n",
    "qFtest = Program()\n",
    "reg = qFtest.qalloc(2, QInt)\n",
    "reg.set_value(1)\n",
    "start = time.time()\n",
    "qFtest.apply(qFt_2, reg)\n",
    "circ = qFtest.to_circ()\n",
    "job = circ.to_job()\n",
    "result = qpu.submit(job)\n",
    "end = time.time()\n",
    "for sample in result:\n",
    "    print(\"State {} Amplitude: {}\".format(sample.state,sample.amplitude))\n",
    "print(\"Execution time: \", end-start)\n",
    "#Expected result: \n",
    "#State |0>|0> amplitude 0.5\n",
    "#State |0>|1> amplitude 0.5 i\n",
    "#State |1>|0> amplitude -0.5\n",
    "#State |1>|1> amplitude -0.5 i"
   ]
  },
  {
   "cell_type": "code",
   "execution_count": 16,
   "metadata": {},
   "outputs": [
    {
     "name": "stdout",
     "output_type": "stream",
     "text": [
      "State |0> Amplitude: (0.4999999999999999+0j)\n",
      "State |1> Amplitude: (-0.4999999999999999+0j)\n",
      "State |2> Amplitude: (3.0616169978683824e-17+0.4999999999999999j)\n",
      "State |3> Amplitude: (-3.0616169978683824e-17-0.4999999999999999j)\n",
      "Execution time:  0.009994029998779297\n"
     ]
    }
   ],
   "source": [
    "#Comparison with built-in qFt\n",
    "qFtest = Program()\n",
    "reg = qFtest.qalloc(2, QInt)\n",
    "reg.set_value(1)\n",
    "start = time.time()\n",
    "qFtest.apply(QFT_2, reg)\n",
    "circ = qFtest.to_circ()\n",
    "job = circ.to_job()\n",
    "result = qpu.submit(job)\n",
    "end = time.time()\n",
    "for sample in result:\n",
    "    print(\"State {} Amplitude: {}\".format(sample.state,sample.amplitude))\n",
    "print(\"Execution time: \", end-start)\n",
    "#Expected result: \n",
    "#State |0>|0> amplitude 0.5\n",
    "#State |0>|1> amplitude 0.5 i\n",
    "#State |1>|0> amplitude -0.5\n",
    "#State |1>|1> amplitude -0.5 i"
   ]
  },
  {
   "cell_type": "code",
   "execution_count": 17,
   "metadata": {},
   "outputs": [
    {
     "name": "stdout",
     "output_type": "stream",
     "text": [
      "State |0> Amplitude: (0.4999999999999999+0j)\n",
      "State |1> Amplitude: (-0.4999999999999999+0j)\n",
      "State |2> Amplitude: (0.4999999999999999+0j)\n",
      "State |3> Amplitude: (-0.4999999999999999+0j)\n",
      "Execution time:  0.006995201110839844\n"
     ]
    }
   ],
   "source": [
    "#Testing on vector |1>|0> of the computational basis\n",
    "qFtest = Program()\n",
    "reg = qFtest.qalloc(2, QInt)\n",
    "reg.set_value(2)\n",
    "start = time.time()\n",
    "qFtest.apply(qFt_2, reg)\n",
    "circ = qFtest.to_circ()\n",
    "job = circ.to_job()\n",
    "result = qpu.submit(job)\n",
    "end = time.time()\n",
    "for sample in result:\n",
    "    print(\"State {} Amplitude: {}\".format(sample.state,sample.amplitude))\n",
    "print(\"Execution time: \", end-start)\n",
    "#Expected result: \n",
    "#State |0>|0> amplitude 0.5\n",
    "#State |0>|1> amplitude -0.5\n",
    "#State |1>|0> amplitude 0.5\n",
    "#State |1>|1> amplitude -0.5"
   ]
  },
  {
   "cell_type": "code",
   "execution_count": 18,
   "metadata": {},
   "outputs": [
    {
     "name": "stdout",
     "output_type": "stream",
     "text": [
      "State |0> Amplitude: (0.4999999999999999+0j)\n",
      "State |1> Amplitude: (0.4999999999999999+0j)\n",
      "State |2> Amplitude: (-0.4999999999999999+0j)\n",
      "State |3> Amplitude: (-0.4999999999999999+0j)\n",
      "Execution time:  0.01099538803100586\n"
     ]
    }
   ],
   "source": [
    "#Comparison with the built-in qFt\n",
    "qFtest = Program()\n",
    "reg = qFtest.qalloc(2, QInt)\n",
    "reg.set_value(2)\n",
    "start = time.time()\n",
    "qFtest.apply(QFT_2, reg)\n",
    "circ = qFtest.to_circ()\n",
    "job = circ.to_job()\n",
    "result = qpu.submit(job)\n",
    "end = time.time()\n",
    "for sample in result:\n",
    "    print(\"State {} Amplitude: {}\".format(sample.state,sample.amplitude))\n",
    "print(\"Execution time: \", end-start)\n",
    "#Expected result: \n",
    "#State |0>|0> amplitude 0.5\n",
    "#State |0>|1> amplitude -0.5\n",
    "#State |1>|0> amplitude 0.5\n",
    "#State |1>|1> amplitude -0.5"
   ]
  },
  {
   "cell_type": "code",
   "execution_count": 19,
   "metadata": {},
   "outputs": [
    {
     "name": "stdout",
     "output_type": "stream",
     "text": [
      "State |0> Amplitude: (0.4999999999999999+0j)\n",
      "State |1> Amplitude: (-3.0616169978683824e-17-0.4999999999999999j)\n",
      "State |2> Amplitude: (-0.4999999999999999+0j)\n",
      "State |3> Amplitude: (3.0616169978683824e-17+0.4999999999999999j)\n",
      "Execution time:  0.008995771408081055\n"
     ]
    }
   ],
   "source": [
    "#Testing on vector |1>|1> of the computational basis\n",
    "qFtest = Program()\n",
    "reg = qFtest.qalloc(2, QInt)\n",
    "reg.set_value(3)\n",
    "start = time.time()\n",
    "qFtest.apply(qFt_2, reg)\n",
    "circ = qFtest.to_circ()\n",
    "job = circ.to_job()\n",
    "result = qpu.submit(job)\n",
    "end = time.time()\n",
    "for sample in result:\n",
    "    print(\"State {} Amplitude: {}\".format(sample.state,sample.amplitude))\n",
    "print(\"Execution time: \", end-start)\n",
    "#Expected result: \n",
    "#State |0>|0> amplitude 0.5\n",
    "#State |0>|1> amplitude -0.5 i\n",
    "#State |1>|0> amplitude -0.5\n",
    "#State |1>|1> amplitude 0.5 i"
   ]
  },
  {
   "cell_type": "code",
   "execution_count": 20,
   "metadata": {},
   "outputs": [
    {
     "name": "stdout",
     "output_type": "stream",
     "text": [
      "State |0> Amplitude: (0.4999999999999999+0j)\n",
      "State |1> Amplitude: (-0.4999999999999999+0j)\n",
      "State |2> Amplitude: (-3.0616169978683824e-17-0.4999999999999999j)\n",
      "State |3> Amplitude: (3.0616169978683824e-17+0.4999999999999999j)\n",
      "Execution time:  0.013993978500366211\n"
     ]
    }
   ],
   "source": [
    "#Comparison with built-in qFt\n",
    "qFtest = Program()\n",
    "reg = qFtest.qalloc(2, QInt)\n",
    "reg.set_value(3)\n",
    "start = time.time()\n",
    "qFtest.apply(QFT_2, reg)\n",
    "circ = qFtest.to_circ()\n",
    "job = circ.to_job()\n",
    "result = qpu.submit(job)\n",
    "end = time.time()\n",
    "for sample in result:\n",
    "    print(\"State {} Amplitude: {}\".format(sample.state,sample.amplitude))\n",
    "print(\"Execution time: \", end-start)\n",
    "#Expected result: \n",
    "#State |0>|0> amplitude 0.5\n",
    "#State |0>|1> amplitude -0.5 i\n",
    "#State |1>|0> amplitude -0.5\n",
    "#State |1>|1> amplitude 0.5 i"
   ]
  },
  {
   "cell_type": "code",
   "execution_count": 21,
   "metadata": {},
   "outputs": [],
   "source": [
    "#Moving on to 3-qbit registers for the last batch of qFT tests\n",
    "qFt_3 = qFt(3)\n",
    "QFT_3 = qftarith.QFT(3)"
   ]
  },
  {
   "cell_type": "code",
   "execution_count": 22,
   "metadata": {},
   "outputs": [
    {
     "name": "stdout",
     "output_type": "stream",
     "text": [
      "State |0> Amplitude: (0.3535533905932737+0j)\n",
      "State |1> Amplitude: (0.3535533905932737+0j)\n",
      "State |2> Amplitude: (0.3535533905932737+0j)\n",
      "State |3> Amplitude: (0.3535533905932737+0j)\n",
      "State |4> Amplitude: (0.3535533905932737+0j)\n",
      "State |5> Amplitude: (0.3535533905932737+0j)\n",
      "State |6> Amplitude: (0.3535533905932737+0j)\n",
      "State |7> Amplitude: (0.3535533905932737+0j)\n",
      "Execution time:  0.009995222091674805\n"
     ]
    }
   ],
   "source": [
    "#Testing on vector |0>|0>|0> of the computational basis\n",
    "qFtest = Program()\n",
    "reg = qFtest.qalloc(3, QInt)\n",
    "start = time.time()\n",
    "qFtest.apply(qFt_3, reg)\n",
    "circ = qFtest.to_circ()\n",
    "job = circ.to_job()\n",
    "result = qpu.submit(job)\n",
    "end = time.time()\n",
    "for sample in result:\n",
    "    print(\"State {} Amplitude: {}\".format(sample.state,sample.amplitude))\n",
    "print(\"Execution time: \", end-start)\n",
    "#Expected result: \n",
    "#State |0>|0>|0> amplitude 0.3536\n",
    "#State |0>|0>|1> amplitude 0.3536\n",
    "#State |0>|1>|0> amplitude 0.3536\n",
    "#State |0>|1>|1> amplitude 0.3536\n",
    "#State |1>|0>|0> amplitude 0.3536\n",
    "#State |1>|0>|1> amplitude 0.3536\n",
    "#State |1>|1>|0> amplitude 0.3536\n",
    "#State |1>|1>|1> amplitude 0.3536"
   ]
  },
  {
   "cell_type": "code",
   "execution_count": 23,
   "metadata": {},
   "outputs": [
    {
     "name": "stdout",
     "output_type": "stream",
     "text": [
      "State |0> Amplitude: (0.3535533905932737+0j)\n",
      "State |1> Amplitude: (0.3535533905932737+0j)\n",
      "State |2> Amplitude: (0.3535533905932737+0j)\n",
      "State |3> Amplitude: (0.3535533905932737+0j)\n",
      "State |4> Amplitude: (0.3535533905932737+0j)\n",
      "State |5> Amplitude: (0.3535533905932737+0j)\n",
      "State |6> Amplitude: (0.3535533905932737+0j)\n",
      "State |7> Amplitude: (0.3535533905932737+0j)\n",
      "Execution time:  0.01598954200744629\n"
     ]
    }
   ],
   "source": [
    "#Comparison with built-in qFt\n",
    "qFtest = Program()\n",
    "reg = qFtest.qalloc(3, QInt)\n",
    "start = time.time()\n",
    "qFtest.apply(QFT_3, reg)\n",
    "circ = qFtest.to_circ()\n",
    "job = circ.to_job()\n",
    "result = qpu.submit(job)\n",
    "end = time.time()\n",
    "for sample in result:\n",
    "    print(\"State {} Amplitude: {}\".format(sample.state,sample.amplitude))\n",
    "print(\"Execution time: \", end-start)\n",
    "#Expected result: \n",
    "#State |0>|0>|0> amplitude 0.3536\n",
    "#State |0>|0>|1> amplitude 0.3536\n",
    "#State |0>|1>|0> amplitude 0.3536\n",
    "#State |0>|1>|1> amplitude 0.3536\n",
    "#State |1>|0>|0> amplitude 0.3536\n",
    "#State |1>|0>|1> amplitude 0.3536\n",
    "#State |1>|1>|0> amplitude 0.3536\n",
    "#State |1>|1>|1> amplitude 0.3536"
   ]
  },
  {
   "cell_type": "code",
   "execution_count": 31,
   "metadata": {},
   "outputs": [
    {
     "name": "stdout",
     "output_type": "stream",
     "text": [
      "State |0> Amplitude: (0.3535533905932737+0j)\n",
      "State |1> Amplitude: (0.24999999999999994+0.24999999999999994j)\n",
      "State |2> Amplitude: (2.1648901405887326e-17+0.3535533905932737j)\n",
      "State |3> Amplitude: (-0.24999999999999994+0.24999999999999994j)\n",
      "State |4> Amplitude: (-0.3535533905932737+0j)\n",
      "State |5> Amplitude: (-0.24999999999999994-0.24999999999999994j)\n",
      "State |6> Amplitude: (-2.1648901405887326e-17-0.3535533905932737j)\n",
      "State |7> Amplitude: (0.24999999999999994-0.24999999999999994j)\n",
      "Execution time:  0.011992216110229492\n"
     ]
    }
   ],
   "source": [
    "#Testing on vector |0>|0>|1> of the computational basis\n",
    "qFtest = Program()\n",
    "reg = qFtest.qalloc(3, QInt)\n",
    "reg.set_value(1)\n",
    "start = time.time()\n",
    "qFtest.apply(qFt_3, reg)\n",
    "circ = qFtest.to_circ()\n",
    "#%qatdisplay circ\n",
    "job = circ.to_job()\n",
    "result = qpu.submit(job)\n",
    "end = time.time()\n",
    "for sample in result:\n",
    "    print(\"State {} Amplitude: {}\".format(sample.state,sample.amplitude))\n",
    "print(\"Execution time: \", end-start)\n",
    "#Expected result: \n",
    "#State |0>|0>|0> amplitude 0.3536\n",
    "#State |0>|0>|1> amplitude 0.25 + 0.25 i\n",
    "#State |0>|1>|0> amplitude 0.3536 i\n",
    "#State |0>|1>|1> amplitude -0.25 + 0.25 i\n",
    "#State |1>|0>|0> amplitude -0.3536\n",
    "#State |1>|0>|1> amplitude -0.25 - 0.25 i\n",
    "#State |1>|1>|0> amplitude -0.3536 i\n",
    "#State |1>|1>|1> amplitude 0.25 - 0.25 i"
   ]
  },
  {
   "cell_type": "code",
   "execution_count": 32,
   "metadata": {},
   "outputs": [
    {
     "name": "stdout",
     "output_type": "stream",
     "text": [
      "State |0> Amplitude: (0.3535533905932737+0j)\n",
      "State |1> Amplitude: (-0.3535533905932737+0j)\n",
      "State |2> Amplitude: (2.1648901405887326e-17+0.3535533905932737j)\n",
      "State |3> Amplitude: (-2.1648901405887326e-17-0.3535533905932737j)\n",
      "State |4> Amplitude: (0.24999999999999994+0.24999999999999994j)\n",
      "State |5> Amplitude: (-0.24999999999999994-0.24999999999999994j)\n",
      "State |6> Amplitude: (-0.24999999999999994+0.24999999999999994j)\n",
      "State |7> Amplitude: (0.24999999999999994-0.24999999999999994j)\n",
      "Execution time:  0.012994527816772461\n"
     ]
    }
   ],
   "source": [
    "#Comparison with the built-in qFt\n",
    "qFtest = Program()\n",
    "reg = qFtest.qalloc(3, QInt)\n",
    "reg.set_value(1)\n",
    "start = time.time()\n",
    "qFtest.apply(QFT_3, reg)\n",
    "circ = qFtest.to_circ()\n",
    "#%qatdisplay circ\n",
    "job = circ.to_job()\n",
    "result = qpu.submit(job)\n",
    "end = time.time()\n",
    "for sample in result:\n",
    "    print(\"State {} Amplitude: {}\".format(sample.state,sample.amplitude))\n",
    "print(\"Execution time: \", end-start)\n",
    "#Expected result: \n",
    "#State |0>|0>|0> amplitude 0.3536\n",
    "#State |0>|0>|1> amplitude 0.25 + 0.25 i\n",
    "#State |0>|1>|0> amplitude 0.3536 i\n",
    "#State |0>|1>|1> amplitude -0.25 + 0.25 i\n",
    "#State |1>|0>|0> amplitude -0.3536\n",
    "#State |1>|0>|1> amplitude -0.25 - 0.25 i\n",
    "#State |1>|1>|0> amplitude -0.3536 i\n",
    "#State |1>|1>|1> amplitude 0.25 - 0.25 i"
   ]
  },
  {
   "cell_type": "code",
   "execution_count": 33,
   "metadata": {},
   "outputs": [
    {
     "name": "stdout",
     "output_type": "stream",
     "text": [
      "State |0> Amplitude: (0.3535533905932737+0j)\n",
      "State |1> Amplitude: (2.1648901405887326e-17+0.3535533905932737j)\n",
      "State |2> Amplitude: (-0.3535533905932737+0j)\n",
      "State |3> Amplitude: (-2.1648901405887326e-17-0.3535533905932737j)\n",
      "State |4> Amplitude: (0.3535533905932737+0j)\n",
      "State |5> Amplitude: (2.1648901405887326e-17+0.3535533905932737j)\n",
      "State |6> Amplitude: (-0.3535533905932737+0j)\n",
      "State |7> Amplitude: (-2.1648901405887326e-17-0.3535533905932737j)\n",
      "Execution time:  0.010989904403686523\n"
     ]
    }
   ],
   "source": [
    "#Testing on vector |0>|1>|0> of the computational basis\n",
    "qFtest = Program()\n",
    "reg = qFtest.qalloc(3, QInt)\n",
    "reg.set_value(2)\n",
    "start = time.time()\n",
    "qFtest.apply(qFt_3, reg)\n",
    "circ = qFtest.to_circ()\n",
    "#%qatdisplay circ\n",
    "job = circ.to_job()\n",
    "result = qpu.submit(job)\n",
    "end = time.time()\n",
    "for sample in result:\n",
    "    print(\"State {} Amplitude: {}\".format(sample.state,sample.amplitude))\n",
    "print(\"Execution time: \", end-start)\n",
    "#Expected result: \n",
    "#State |0>|0>|0> amplitude 0.3536\n",
    "#State |0>|0>|1> amplitude 0.3536 i\n",
    "#State |0>|1>|0> amplitude -0.3536\n",
    "#State |0>|1>|1> amplitude -0.3536 i\n",
    "#State |1>|0>|0> amplitude 0.3536\n",
    "#State |1>|0>|1> amplitude 0.3536 i\n",
    "#State |1>|1>|0> amplitude -0.3536\n",
    "#State |1>|1>|1> amplitude -0.3536 i"
   ]
  },
  {
   "cell_type": "code",
   "execution_count": 34,
   "metadata": {},
   "outputs": [
    {
     "name": "stdout",
     "output_type": "stream",
     "text": [
      "State |0> Amplitude: (0.3535533905932737+0j)\n",
      "State |1> Amplitude: (0.3535533905932737+0j)\n",
      "State |2> Amplitude: (-0.3535533905932737+0j)\n",
      "State |3> Amplitude: (-0.3535533905932737+0j)\n",
      "State |4> Amplitude: (2.1648901405887326e-17+0.3535533905932737j)\n",
      "State |5> Amplitude: (2.1648901405887326e-17+0.3535533905932737j)\n",
      "State |6> Amplitude: (-2.1648901405887326e-17-0.3535533905932737j)\n",
      "State |7> Amplitude: (-2.1648901405887326e-17-0.3535533905932737j)\n",
      "Execution time:  0.013996601104736328\n"
     ]
    }
   ],
   "source": [
    "#Comparison with the built-in qFt\n",
    "qFtest = Program()\n",
    "reg = qFtest.qalloc(3, QInt)\n",
    "reg.set_value(2)\n",
    "start = time.time()\n",
    "qFtest.apply(QFT_3, reg)\n",
    "circ = qFtest.to_circ()\n",
    "#%qatdisplay circ\n",
    "job = circ.to_job()\n",
    "result = qpu.submit(job)\n",
    "end = time.time()\n",
    "for sample in result:\n",
    "    print(\"State {} Amplitude: {}\".format(sample.state,sample.amplitude))\n",
    "print(\"Execution time: \", end-start)\n",
    "#Expected result: \n",
    "#State |0>|0>|0> amplitude 0.3536\n",
    "#State |0>|0>|1> amplitude 0.3536 i\n",
    "#State |0>|1>|0> amplitude -0.3536\n",
    "#State |0>|1>|1> amplitude -0.3536 i\n",
    "#State |1>|0>|0> amplitude 0.3536\n",
    "#State |1>|0>|1> amplitude 0.3536 i\n",
    "#State |1>|1>|0> amplitude -0.3536\n",
    "#State |1>|1>|1> amplitude -0.3536 i"
   ]
  },
  {
   "cell_type": "code",
   "execution_count": 35,
   "metadata": {},
   "outputs": [
    {
     "name": "stdout",
     "output_type": "stream",
     "text": [
      "State |0> Amplitude: (0.3535533905932737+0j)\n",
      "State |1> Amplitude: (-0.24999999999999992+0.24999999999999994j)\n",
      "State |2> Amplitude: (-2.1648901405887326e-17-0.3535533905932737j)\n",
      "State |3> Amplitude: (0.24999999999999994+0.24999999999999992j)\n",
      "State |4> Amplitude: (-0.3535533905932737+0j)\n",
      "State |5> Amplitude: (0.24999999999999992-0.24999999999999994j)\n",
      "State |6> Amplitude: (2.1648901405887326e-17+0.3535533905932737j)\n",
      "State |7> Amplitude: (-0.24999999999999994-0.24999999999999992j)\n",
      "Execution time:  0.013991117477416992\n"
     ]
    }
   ],
   "source": [
    "#Testing on vector |0>|1>|1> of the computational basis\n",
    "qFtest = Program()\n",
    "reg = qFtest.qalloc(3, QInt)\n",
    "reg.set_value(3)\n",
    "start = time.time()\n",
    "qFtest.apply(qFt_3, reg)\n",
    "circ = qFtest.to_circ()\n",
    "#%qatdisplay circ\n",
    "job = circ.to_job()\n",
    "result = qpu.submit(job)\n",
    "end = time.time()\n",
    "for sample in result:\n",
    "    print(\"State {} Amplitude: {}\".format(sample.state,sample.amplitude))\n",
    "print(\"Execution time: \", end-start)\n",
    "#Expected result: \n",
    "#State |0>|0>|0> amplitude 0.3536\n",
    "#State |0>|0>|1> amplitude -0.25 + 0.25 i\n",
    "#State |0>|1>|0> amplitude -0.3536 i\n",
    "#State |0>|1>|1> amplitude 0.25 + 0.25 i\n",
    "#State |1>|0>|0> amplitude -0.3536\n",
    "#State |1>|0>|1> amplitude 0.25 - 0.25 i\n",
    "#State |1>|1>|0> amplitude 0.3536 i\n",
    "#State |1>|1>|1> amplitude -0.25 - 0.25 i"
   ]
  },
  {
   "cell_type": "code",
   "execution_count": 36,
   "metadata": {},
   "outputs": [
    {
     "name": "stdout",
     "output_type": "stream",
     "text": [
      "State |0> Amplitude: (0.3535533905932737+0j)\n",
      "State |1> Amplitude: (-0.24999999999999992+0.24999999999999994j)\n",
      "State |2> Amplitude: (-2.1648901405887326e-17-0.3535533905932737j)\n",
      "State |3> Amplitude: (0.24999999999999994+0.24999999999999992j)\n",
      "State |4> Amplitude: (-0.3535533905932737+0j)\n",
      "State |5> Amplitude: (0.24999999999999992-0.24999999999999994j)\n",
      "State |6> Amplitude: (2.1648901405887326e-17+0.3535533905932737j)\n",
      "State |7> Amplitude: (-0.24999999999999994-0.24999999999999992j)\n",
      "Execution time:  0.014992475509643555\n"
     ]
    }
   ],
   "source": [
    "#Comparison with the built-in qFt\n",
    "qFtest = Program()\n",
    "reg = qFtest.qalloc(3, QInt)\n",
    "reg.set_value(3)\n",
    "start = time.time()\n",
    "qFtest.apply(qFt_3, reg)\n",
    "circ = qFtest.to_circ()\n",
    "#%qatdisplay circ\n",
    "job = circ.to_job()\n",
    "result = qpu.submit(job)\n",
    "end = time.time()\n",
    "for sample in result:\n",
    "    print(\"State {} Amplitude: {}\".format(sample.state,sample.amplitude))\n",
    "print(\"Execution time: \", end-start)\n",
    "#Expected result: \n",
    "#State |0>|0>|0> amplitude 0.3536\n",
    "#State |0>|0>|1> amplitude -0.25 + 0.25 i\n",
    "#State |0>|1>|0> amplitude -0.3536 i\n",
    "#State |0>|1>|1> amplitude 0.25 + 0.25 i\n",
    "#State |1>|0>|0> amplitude -0.3536\n",
    "#State |1>|0>|1> amplitude 0.25 - 0.25 i\n",
    "#State |1>|1>|0> amplitude 0.3536 i\n",
    "#State |1>|1>|1> amplitude -0.25 - 0.25 i"
   ]
  },
  {
   "cell_type": "markdown",
   "metadata": {},
   "source": [
    "# Phase function testing"
   ]
  },
  {
   "cell_type": "code",
   "execution_count": null,
   "metadata": {},
   "outputs": [],
   "source": [
    "simu = JLPsim(2, 2, 2)\n",
    "simu.lattice[0][0][1].set_value(1)\n",
    "simu.lattice[0][1][0].set_value(2)\n",
    "simu.lattice[0][1][1].set_value(3)\n",
    "simu.fld_phase()\n",
    "qpu = PyLinalg()\n",
    "circ = simu.to_circ(link=[qftarith])\n",
    "job = circ.to_job()\n",
    "result = qpu.submit(job)\n",
    "for sample in result: \n",
    "    print(\"State: {}\".format(sample.state))"
   ]
  }
 ],
 "metadata": {
  "authors": [
   "Simon Martiel",
   "Jerome Pioux"
  ],
  "kernelspec": {
   "display_name": "Python 3 (ipykernel)",
   "language": "python",
   "name": "python3"
  },
  "language_info": {
   "codemirror_mode": {
    "name": "ipython",
    "version": 3
   },
   "file_extension": ".py",
   "mimetype": "text/x-python",
   "name": "python",
   "nbconvert_exporter": "python",
   "pygments_lexer": "ipython3",
   "version": "3.9.12"
  }
 },
 "nbformat": 4,
 "nbformat_minor": 4
}
